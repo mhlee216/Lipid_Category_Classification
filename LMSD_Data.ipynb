{
 "cells": [
  {
   "cell_type": "markdown",
   "id": "acf8a0b9",
   "metadata": {},
   "source": [
    "# LIPID MAPS Structure Database (LMSD)\n",
    "https://www.lipidmaps.org/databases/lmsd/download"
   ]
  },
  {
   "cell_type": "code",
   "execution_count": 1,
   "id": "39ba0abe",
   "metadata": {},
   "outputs": [],
   "source": [
    "from rdkit import Chem\n",
    "import pandas as pd"
   ]
  },
  {
   "cell_type": "code",
   "execution_count": 2,
   "id": "13df053d",
   "metadata": {},
   "outputs": [],
   "source": [
    "f = open('structures.sdf', 'r')\n",
    "lines = f.readlines()\n",
    "f.close()\n",
    "category = []\n",
    "for i in range(len(lines)):\n",
    "    if '<CATEGORY>' in lines[i]:\n",
    "        category.append(lines[i+1].split(' [')[0])"
   ]
  },
  {
   "cell_type": "code",
   "execution_count": 3,
   "id": "901ccf64",
   "metadata": {},
   "outputs": [
    {
     "name": "stderr",
     "output_type": "stream",
     "text": [
      "[15:42:21] Warning: conflicting stereochemistry at atom 49 ignored. by rule 1a.\n",
      "[15:42:21] Warning: conflicting stereochemistry at atom 52 ignored. by rule 1a.\n",
      "[15:42:21] Warning: conflicting stereochemistry at atom 49 ignored. by rule 1a.\n",
      "[15:42:21] Warning: conflicting stereochemistry at atom 52 ignored. by rule 1a.\n",
      "[15:42:21] Warning: conflicting stereochemistry at atom 77 ignored. by rule 1a.\n",
      "[15:42:21] Warning: conflicting stereochemistry at atom 77 ignored. by rule 1a.\n",
      "[15:42:21] Warning: conflicting stereochemistry at atom 81 ignored. by rule 1a.\n",
      "[15:42:21] Warning: conflicting stereochemistry at atom 81 ignored. by rule 1a.\n",
      "[15:42:25] Warning: conflicting stereochemistry at atom 56 ignored. by rule 1a.\n",
      "[15:42:25] Warning: conflicting stereochemistry at atom 56 ignored. by rule 1a.\n"
     ]
    }
   ],
   "source": [
    "sppl = Chem.SDMolSupplier('structures.sdf')\n",
    "\n",
    "category_list = []\n",
    "smiles_list = []\n",
    "for i in range(len(category)):\n",
    "    mol = sppl[i]\n",
    "    if mol is not None:\n",
    "        smi = Chem.MolToSmiles(mol)\n",
    "        smiles_list.append(smi)\n",
    "        category_list.append(category[i])"
   ]
  },
  {
   "cell_type": "code",
   "execution_count": 4,
   "id": "4ea0e903",
   "metadata": {},
   "outputs": [
    {
     "data": {
      "text/html": [
       "<div>\n",
       "<style scoped>\n",
       "    .dataframe tbody tr th:only-of-type {\n",
       "        vertical-align: middle;\n",
       "    }\n",
       "\n",
       "    .dataframe tbody tr th {\n",
       "        vertical-align: top;\n",
       "    }\n",
       "\n",
       "    .dataframe thead th {\n",
       "        text-align: right;\n",
       "    }\n",
       "</style>\n",
       "<table border=\"1\" class=\"dataframe\">\n",
       "  <thead>\n",
       "    <tr style=\"text-align: right;\">\n",
       "      <th></th>\n",
       "      <th>SMILES</th>\n",
       "      <th>Category</th>\n",
       "    </tr>\n",
       "  </thead>\n",
       "  <tbody>\n",
       "    <tr>\n",
       "      <th>0</th>\n",
       "      <td>C=CCCCCC(C)CCCCCC#CCCC(OC)C(=O)OC(=O)C(CCC#CCC...</td>\n",
       "      <td>Fatty Acyls</td>\n",
       "    </tr>\n",
       "    <tr>\n",
       "      <th>1</th>\n",
       "      <td>CCCCCCC[C@H](O)CC(=O)N[C@@H](CO)C(=O)O</td>\n",
       "      <td>Fatty Acyls</td>\n",
       "    </tr>\n",
       "    <tr>\n",
       "      <th>2</th>\n",
       "      <td>CCCCCCCCCCCCCCCC(=O)OC(CCCCCCCCCCCCCC)CC(=O)N[...</td>\n",
       "      <td>Fatty Acyls</td>\n",
       "    </tr>\n",
       "    <tr>\n",
       "      <th>3</th>\n",
       "      <td>CC/C=C\\C/C=C\\C/C=C\\CCCCCCCC(=O)N[C@@H](CCC(N)=...</td>\n",
       "      <td>Fatty Acyls</td>\n",
       "    </tr>\n",
       "    <tr>\n",
       "      <th>4</th>\n",
       "      <td>CC(C)CCCCCCCCCCCCCC(=O)OC(CCCCCCCCCCCC(C)C)CC(...</td>\n",
       "      <td>Fatty Acyls</td>\n",
       "    </tr>\n",
       "    <tr>\n",
       "      <th>...</th>\n",
       "      <td>...</td>\n",
       "      <td>...</td>\n",
       "    </tr>\n",
       "    <tr>\n",
       "      <th>47334</th>\n",
       "      <td>CCCCCCCCCCC[C@H](CC1=CC(=O)C=C(OC)C1=O)OC(C)=O</td>\n",
       "      <td>Polyketides</td>\n",
       "    </tr>\n",
       "    <tr>\n",
       "      <th>47335</th>\n",
       "      <td>CCCCCCCCCCCC1=C(O)C(=O)C=C(O)C1=O</td>\n",
       "      <td>Polyketides</td>\n",
       "    </tr>\n",
       "    <tr>\n",
       "      <th>47336</th>\n",
       "      <td>CCCCCCCCCCCC1=C(O)C(=O)C=C(OC)C1=O</td>\n",
       "      <td>Polyketides</td>\n",
       "    </tr>\n",
       "    <tr>\n",
       "      <th>47337</th>\n",
       "      <td>CCCCCCCCCCCCCCCC1=C(O)C(=O)C=C(O)C1=O</td>\n",
       "      <td>Polyketides</td>\n",
       "    </tr>\n",
       "    <tr>\n",
       "      <th>47338</th>\n",
       "      <td>CCCCCCCCCCCCCC1=C(O)C(=O)C=C(O)C1=O</td>\n",
       "      <td>Polyketides</td>\n",
       "    </tr>\n",
       "  </tbody>\n",
       "</table>\n",
       "<p>47339 rows × 2 columns</p>\n",
       "</div>"
      ],
      "text/plain": [
       "                                                  SMILES     Category\n",
       "0      C=CCCCCC(C)CCCCCC#CCCC(OC)C(=O)OC(=O)C(CCC#CCC...  Fatty Acyls\n",
       "1                 CCCCCCC[C@H](O)CC(=O)N[C@@H](CO)C(=O)O  Fatty Acyls\n",
       "2      CCCCCCCCCCCCCCCC(=O)OC(CCCCCCCCCCCCCC)CC(=O)N[...  Fatty Acyls\n",
       "3      CC/C=C\\C/C=C\\C/C=C\\CCCCCCCC(=O)N[C@@H](CCC(N)=...  Fatty Acyls\n",
       "4      CC(C)CCCCCCCCCCCCCC(=O)OC(CCCCCCCCCCCC(C)C)CC(...  Fatty Acyls\n",
       "...                                                  ...          ...\n",
       "47334     CCCCCCCCCCC[C@H](CC1=CC(=O)C=C(OC)C1=O)OC(C)=O  Polyketides\n",
       "47335                  CCCCCCCCCCCC1=C(O)C(=O)C=C(O)C1=O  Polyketides\n",
       "47336                 CCCCCCCCCCCC1=C(O)C(=O)C=C(OC)C1=O  Polyketides\n",
       "47337              CCCCCCCCCCCCCCCC1=C(O)C(=O)C=C(O)C1=O  Polyketides\n",
       "47338                CCCCCCCCCCCCCC1=C(O)C(=O)C=C(O)C1=O  Polyketides\n",
       "\n",
       "[47339 rows x 2 columns]"
      ]
     },
     "execution_count": 4,
     "metadata": {},
     "output_type": "execute_result"
    }
   ],
   "source": [
    "df = pd.DataFrame({'SMILES':smiles_list, 'Category':category_list})\n",
    "df"
   ]
  },
  {
   "cell_type": "code",
   "execution_count": 5,
   "id": "dac189ff",
   "metadata": {},
   "outputs": [],
   "source": [
    "df.to_csv('./LMSD_dataset.csv', index=False)"
   ]
  },
  {
   "cell_type": "code",
   "execution_count": null,
   "id": "58c2a8c7",
   "metadata": {},
   "outputs": [],
   "source": []
  }
 ],
 "metadata": {
  "kernelspec": {
   "display_name": "Python 3 (ipykernel)",
   "language": "python",
   "name": "python3"
  },
  "language_info": {
   "codemirror_mode": {
    "name": "ipython",
    "version": 3
   },
   "file_extension": ".py",
   "mimetype": "text/x-python",
   "name": "python",
   "nbconvert_exporter": "python",
   "pygments_lexer": "ipython3",
   "version": "3.8.13"
  }
 },
 "nbformat": 4,
 "nbformat_minor": 5
}
